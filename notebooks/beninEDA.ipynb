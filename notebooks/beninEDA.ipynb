{
 "cells": [
  {
   "cell_type": "code",
   "execution_count": 2,
   "metadata": {},
   "outputs": [],
   "source": [
    "import pandas as pd\n",
    "import seaborn as sns\n",
    "import matplotlib.pyplot as plt"
   ]
  },
  {
   "cell_type": "code",
   "execution_count": 9,
   "metadata": {},
   "outputs": [],
   "source": [
    "df = pd.read_csv('data/benin-malanville.csv',parse_dates=['Timestamp'])"
   ]
  },
  {
   "cell_type": "markdown",
   "metadata": {},
   "source": [
    "Summary Statistics"
   ]
  },
  {
   "cell_type": "code",
   "execution_count": 10,
   "metadata": {},
   "outputs": [
    {
     "name": "stdout",
     "output_type": "stream",
     "text": [
      "Summary Statistics:\n",
      "                            Timestamp            GHI            DNI  \\\n",
      "count                         525600  525600.000000  525600.000000   \n",
      "mean   2022-02-07 12:00:30.000000512     240.559452     167.187516   \n",
      "min              2021-08-09 00:01:00     -12.900000      -7.800000   \n",
      "25%              2021-11-08 06:00:45      -2.000000      -0.500000   \n",
      "50%              2022-02-07 12:00:30       1.800000      -0.100000   \n",
      "75%              2022-05-09 18:00:15     483.400000     314.200000   \n",
      "max              2022-08-09 00:00:00    1413.000000     952.300000   \n",
      "std                              NaN     331.131327     261.710501   \n",
      "\n",
      "                 DHI           ModA           ModB           Tamb  \\\n",
      "count  525600.000000  525600.000000  525600.000000  525600.000000   \n",
      "mean      115.358961     236.589496     228.883576      28.179683   \n",
      "min       -12.600000       0.000000       0.000000      11.000000   \n",
      "25%        -2.100000       0.000000       0.000000      24.200000   \n",
      "50%         1.600000       4.500000       4.300000      28.000000   \n",
      "75%       216.300000     463.700000     447.900000      32.300000   \n",
      "max       759.200000    1342.300000    1342.300000      43.800000   \n",
      "std       158.691074     326.894859     316.536515       5.924297   \n",
      "\n",
      "                  RH             WS         WSgust        WSstdev  \\\n",
      "count  525600.000000  525600.000000  525600.000000  525600.000000   \n",
      "mean       54.487969       2.121113       2.809195       0.473390   \n",
      "min         2.100000       0.000000       0.000000       0.000000   \n",
      "25%        28.800000       1.000000       1.300000       0.400000   \n",
      "50%        55.100000       1.900000       2.600000       0.500000   \n",
      "75%        80.100000       3.100000       4.100000       0.600000   \n",
      "max       100.000000      19.500000      26.600000       4.200000   \n",
      "std        28.073069       1.603466       2.029120       0.273395   \n",
      "\n",
      "                  WD        WDstdev             BP       Cleaning  \\\n",
      "count  525600.000000  525600.000000  525600.000000  525600.000000   \n",
      "mean      153.435172       8.582407     994.197199       0.000923   \n",
      "min         0.000000       0.000000     985.000000       0.000000   \n",
      "25%        59.000000       3.700000     993.000000       0.000000   \n",
      "50%       181.000000       8.600000     994.000000       0.000000   \n",
      "75%       235.100000      12.300000     996.000000       0.000000   \n",
      "max       360.000000      99.400000    1003.000000       1.000000   \n",
      "std       102.332842       6.385864       2.474993       0.030363   \n",
      "\n",
      "       Precipitation          TModA          TModB  Comments  \n",
      "count  525600.000000  525600.000000  525600.000000       0.0  \n",
      "mean        0.001905      35.246026      32.471736       NaN  \n",
      "min         0.000000       9.000000       8.100000       NaN  \n",
      "25%         0.000000      24.200000      23.600000       NaN  \n",
      "50%         0.000000      30.000000      28.900000       NaN  \n",
      "75%         0.000000      46.900000      41.500000       NaN  \n",
      "max         2.500000      81.000000      72.500000       NaN  \n",
      "std         0.037115      14.807258      12.348743       NaN  \n",
      "\n",
      "Median Values:\n",
      " Timestamp        2022-02-07 12:00:30\n",
      "GHI                              1.8\n",
      "DNI                             -0.1\n",
      "DHI                              1.6\n",
      "ModA                             4.5\n",
      "ModB                             4.3\n",
      "Tamb                            28.0\n",
      "RH                              55.1\n",
      "WS                               1.9\n",
      "WSgust                           2.6\n",
      "WSstdev                          0.5\n",
      "WD                             181.0\n",
      "WDstdev                          8.6\n",
      "BP                             994.0\n",
      "Cleaning                         0.0\n",
      "Precipitation                    0.0\n",
      "TModA                           30.0\n",
      "TModB                           28.9\n",
      "Comments                         NaN\n",
      "dtype: object\n"
     ]
    }
   ],
   "source": [
    "# Summary Statistics\n",
    "summary_stats = df.describe()\n",
    "\n",
    "# Median Calculation (not included in `describe`)\n",
    "median_values = df.median()\n",
    "\n",
    "print(\"Summary Statistics:\\n\", summary_stats)\n",
    "print(\"\\nMedian Values:\\n\", median_values)\n"
   ]
  },
  {
   "cell_type": "markdown",
   "metadata": {},
   "source": [
    "Data Quality Check"
   ]
  },
  {
   "cell_type": "code",
   "execution_count": 11,
   "metadata": {},
   "outputs": [
    {
     "name": "stdout",
     "output_type": "stream",
     "text": [
      "Missing Values:\n",
      " Timestamp             0\n",
      "GHI                   0\n",
      "DNI                   0\n",
      "DHI                   0\n",
      "ModA                  0\n",
      "ModB                  0\n",
      "Tamb                  0\n",
      "RH                    0\n",
      "WS                    0\n",
      "WSgust                0\n",
      "WSstdev               0\n",
      "WD                    0\n",
      "WDstdev               0\n",
      "BP                    0\n",
      "Cleaning              0\n",
      "Precipitation         0\n",
      "TModA                 0\n",
      "TModB                 0\n",
      "Comments         525600\n",
      "dtype: int64\n",
      "\n",
      "Negative Value Counts:\n",
      " {'GHI': np.int64(258847), 'DNI': np.int64(275987), 'DHI': np.int64(259182)}\n"
     ]
    }
   ],
   "source": [
    "# Missing values\n",
    "missing_values = df.isnull().sum()\n",
    "\n",
    "# Negative values in irradiance columns\n",
    "negative_values = {\n",
    "    \"GHI\": (df[\"GHI\"] < 0).sum(),\n",
    "    \"DNI\": (df[\"DNI\"] < 0).sum(),\n",
    "    \"DHI\": (df[\"DHI\"] < 0).sum(),\n",
    "}\n",
    "\n",
    "print(\"Missing Values:\\n\", missing_values)\n",
    "print(\"\\nNegative Value Counts:\\n\", negative_values)\n"
   ]
  },
  {
   "cell_type": "markdown",
   "metadata": {},
   "source": [
    "Time Series Analysis"
   ]
  },
  {
   "cell_type": "code",
   "execution_count": null,
   "metadata": {},
   "outputs": [],
   "source": [
    "import matplotlib.pyplot as plt\n",
    "\n",
    "# Time Series Plot\n",
    "plt.figure(figsize=(12, 6))\n",
    "plt.plot(df[\"Timestamp\"], df[\"GHI\"], label=\"GHI\", marker=\"o\")\n",
    "plt.plot(df[\"Timestamp\"], df[\"DNI\"], label=\"DNI\", marker=\"s\")\n",
    "plt.plot(df[\"Timestamp\"], df[\"DHI\"], label=\"DHI\", marker=\"^\")\n",
    "plt.plot(df[\"Timestamp\"], df[\"Tamb\"], label=\"Tamb (Temperature)\", linestyle=\"--\")\n",
    "plt.title(\"Time Series: Solar Irradiance and Temperature\")\n",
    "plt.xlabel(\"Timestamp\")\n",
    "plt.ylabel(\"Values\")\n",
    "plt.legend()\n",
    "plt.xticks(rotation=45)\n",
    "plt.grid()\n",
    "plt.tight_layout()\n",
    "plt.show()\n"
   ]
  }
 ],
 "metadata": {
  "kernelspec": {
   "display_name": ".venv",
   "language": "python",
   "name": "python3"
  },
  "language_info": {
   "codemirror_mode": {
    "name": "ipython",
    "version": 3
   },
   "file_extension": ".py",
   "mimetype": "text/x-python",
   "name": "python",
   "nbconvert_exporter": "python",
   "pygments_lexer": "ipython3",
   "version": "3.13.1"
  }
 },
 "nbformat": 4,
 "nbformat_minor": 2
}
